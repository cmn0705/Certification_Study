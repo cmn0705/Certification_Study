{
 "cells": [
  {
   "cell_type": "code",
   "execution_count": 2,
   "metadata": {},
   "outputs": [],
   "source": [
    "import boto3\n",
    "db = boto3.resource('dynamodb',region_name='us-east-1') # Real AWS service\n",
    "# db = boto3.resource('dynamodb',endpoint_url=\"http://localhost:8000\") # Local DynamoDB"
   ]
  },
  {
   "cell_type": "code",
   "execution_count": 2,
   "metadata": {},
   "outputs": [
    {
     "data": {
      "text/plain": [
       "[dynamodb.Table(name='aws_cp_questions'),\n",
       " dynamodb.Table(name='aws_saa_questions'),\n",
       " dynamodb.Table(name='client'),\n",
       " dynamodb.Table(name='coach')]"
      ]
     },
     "execution_count": 2,
     "metadata": {},
     "output_type": "execute_result"
    }
   ],
   "source": [
    "list(db.tables.all())"
   ]
  },
  {
   "cell_type": "code",
   "execution_count": 14,
   "metadata": {
    "collapsed": true
   },
   "outputs": [
    {
     "data": {
      "text/plain": [
       "{'TableDescription': {'AttributeDefinitions': [{'AttributeName': 'email',\n",
       "    'AttributeType': 'S'}],\n",
       "  'TableName': 'client',\n",
       "  'KeySchema': [{'AttributeName': 'email', 'KeyType': 'HASH'}],\n",
       "  'TableStatus': 'ACTIVE',\n",
       "  'CreationDateTime': datetime.datetime(2021, 11, 19, 2, 51, 44, 946000, tzinfo=tzlocal()),\n",
       "  'ProvisionedThroughput': {'LastIncreaseDateTime': datetime.datetime(1969, 12, 31, 19, 0, tzinfo=tzlocal()),\n",
       "   'LastDecreaseDateTime': datetime.datetime(1969, 12, 31, 19, 0, tzinfo=tzlocal()),\n",
       "   'NumberOfDecreasesToday': 0,\n",
       "   'ReadCapacityUnits': 5,\n",
       "   'WriteCapacityUnits': 5},\n",
       "  'TableSizeBytes': 304,\n",
       "  'ItemCount': 1,\n",
       "  'TableArn': 'arn:aws:dynamodb:ddblocal:000000000000:table/client'},\n",
       " 'ResponseMetadata': {'RequestId': '13c36b3c-d99a-4780-b6ab-f662d5c2ee8a',\n",
       "  'HTTPStatusCode': 200,\n",
       "  'HTTPHeaders': {'date': 'Fri, 19 Nov 2021 07:59:05 GMT',\n",
       "   'content-type': 'application/x-amz-json-1.0',\n",
       "   'x-amz-crc32': '637071201',\n",
       "   'x-amzn-requestid': '13c36b3c-d99a-4780-b6ab-f662d5c2ee8a',\n",
       "   'content-length': '484',\n",
       "   'server': 'Jetty(9.4.18.v20190429)'},\n",
       "  'RetryAttempts': 0}}"
      ]
     },
     "execution_count": 14,
     "metadata": {},
     "output_type": "execute_result"
    }
   ],
   "source": [
    "db.Table('client').delete()"
   ]
  },
  {
   "cell_type": "code",
   "execution_count": 6,
   "metadata": {},
   "outputs": [
    {
     "data": {
      "text/plain": [
       "dynamodb.Table(name='client')"
      ]
     },
     "execution_count": 6,
     "metadata": {},
     "output_type": "execute_result"
    }
   ],
   "source": [
    "db.create_table(\n",
    "    TableName='client',\n",
    "    KeySchema=[\n",
    "        {'AttributeName': 'email',   'KeyType': 'HASH'},\n",
    "    ],\n",
    "    \n",
    "    AttributeDefinitions=[\n",
    "        {'AttributeName': 'email', 'AttributeType': 'S'},\n",
    "    ],\n",
    "    ProvisionedThroughput={'ReadCapacityUnits': 5, 'WriteCapacityUnits': 5}\n",
    ")"
   ]
  },
  {
   "cell_type": "code",
   "execution_count": 11,
   "metadata": {},
   "outputs": [
    {
     "data": {
      "text/plain": [
       "{'ResponseMetadata': {'RequestId': 'D769L10JFBD7U4CSNBGHKNSF67VV4KQNSO5AEMVJF66Q9ASUAAJG',\n",
       "  'HTTPStatusCode': 200,\n",
       "  'HTTPHeaders': {'server': 'Server',\n",
       "   'date': 'Mon, 15 Nov 2021 04:24:32 GMT',\n",
       "   'content-type': 'application/x-amz-json-1.0',\n",
       "   'content-length': '2',\n",
       "   'connection': 'keep-alive',\n",
       "   'x-amzn-requestid': 'D769L10JFBD7U4CSNBGHKNSF67VV4KQNSO5AEMVJF66Q9ASUAAJG',\n",
       "   'x-amz-crc32': '2745614147'},\n",
       "  'RetryAttempts': 0}}"
      ]
     },
     "execution_count": 11,
     "metadata": {},
     "output_type": "execute_result"
    }
   ],
   "source": [
    "db.Table('client').put_item(\n",
    "       Item={\n",
    "            'client_id':'Chau100',\n",
    "            'email':'cmn0705@gmail.com',\n",
    "            'password':'111111',\n",
    "            'first_name':'Chau',\n",
    "            'middle_name':'Minh',\n",
    "            'last_name':'Nguyen',\n",
    "            'phone':'703-223-3273',\n",
    "            'gender':'Female',\n",
    "            'birthday':'05/07/1998',\n",
    "            'mailing_address':'9602 Symphony Meadow Ln',\n",
    "            'apt_ste_bldg':'Basement',\n",
    "            'city':'Vienna',\n",
    "            'state':'VA',\n",
    "            'zip_code':'22182',\n",
    "            'country':'USA',\n",
    "            'signup_date':'2021-11-15 04:23:32.544412',\n",
    "            'subscription_id':'none',\n",
    "            'booking_link':'none'\n",
    "        }\n",
    ")"
   ]
  },
  {
   "cell_type": "code",
   "execution_count": 6,
   "metadata": {},
   "outputs": [
    {
     "data": {
      "text/plain": [
       "dynamodb.Table(name='coach')"
      ]
     },
     "execution_count": 6,
     "metadata": {},
     "output_type": "execute_result"
    }
   ],
   "source": [
    "db.create_table(\n",
    "    TableName='coach',\n",
    "    KeySchema=[\n",
    "        {'AttributeName': 'email',   'KeyType': 'HASH'},\n",
    "    ],\n",
    "    \n",
    "    AttributeDefinitions=[\n",
    "        {'AttributeName': 'email', 'AttributeType': 'S'},\n",
    "    ],\n",
    "    ProvisionedThroughput={'ReadCapacityUnits': 5, 'WriteCapacityUnits': 5}\n",
    ")"
   ]
  },
  {
   "cell_type": "code",
   "execution_count": 12,
   "metadata": {},
   "outputs": [
    {
     "data": {
      "text/plain": [
       "{'ResponseMetadata': {'RequestId': '6MB9CR8GP0M9A6EFH8RCVR32ERVV4KQNSO5AEMVJF66Q9ASUAAJG',\n",
       "  'HTTPStatusCode': 200,\n",
       "  'HTTPHeaders': {'server': 'Server',\n",
       "   'date': 'Mon, 15 Nov 2021 04:26:24 GMT',\n",
       "   'content-type': 'application/x-amz-json-1.0',\n",
       "   'content-length': '2',\n",
       "   'connection': 'keep-alive',\n",
       "   'x-amzn-requestid': '6MB9CR8GP0M9A6EFH8RCVR32ERVV4KQNSO5AEMVJF66Q9ASUAAJG',\n",
       "   'x-amz-crc32': '2745614147'},\n",
       "  'RetryAttempts': 0}}"
      ]
     },
     "execution_count": 12,
     "metadata": {},
     "output_type": "execute_result"
    }
   ],
   "source": [
    "db.Table('coach').put_item(\n",
    "       Item={\n",
    "            'coach_id':'Chau100',\n",
    "            'email':'cmn0705@gmail.com',\n",
    "            'password':'111111',\n",
    "            'first_name':'Chau',\n",
    "            'middle_name':'Minh',\n",
    "            'last_name':'Nguyen',\n",
    "            'phone':'703-223-3273',\n",
    "            'gender':'Female',\n",
    "            'birthday':'05/07/1998',\n",
    "            'mailing_address':'9602 Symphony Meadow Ln',\n",
    "            'apt_ste_bldg':'Basement',\n",
    "            'city':'Vienna',\n",
    "            'state':'VA',\n",
    "            'zip_code':'22182',\n",
    "            'country':'USA',\n",
    "            'signup_date':'2021-11-15 04:23:32.544412',\n",
    "            'specializations':['emotional','intellectual','physical','social','spiritual','financial'],\n",
    "        }\n",
    ")"
   ]
  },
  {
   "cell_type": "code",
   "execution_count": 7,
   "metadata": {},
   "outputs": [
    {
     "data": {
      "text/plain": [
       "dynamodb.Table(name='match')"
      ]
     },
     "execution_count": 7,
     "metadata": {},
     "output_type": "execute_result"
    }
   ],
   "source": [
    "db.create_table(\n",
    "    TableName='match',\n",
    "    KeySchema=[\n",
    "        {'AttributeName': 'client_id',   'KeyType': 'HASH'},\n",
    "        {'AttributeName': 'coach_id',      'KeyType': 'RANGE'},\n",
    "    ],\n",
    "    \n",
    "    AttributeDefinitions=[\n",
    "        {'AttributeName': 'client_id', 'AttributeType': 'S'},\n",
    "        {'AttributeName': 'coach_id','AttributeType': 'S'},\n",
    "    ],\n",
    "    ProvisionedThroughput={'ReadCapacityUnits': 5, 'WriteCapacityUnits': 5}\n",
    ")"
   ]
  },
  {
   "cell_type": "code",
   "execution_count": 8,
   "metadata": {},
   "outputs": [
    {
     "data": {
      "text/plain": [
       "{'ResponseMetadata': {'RequestId': '81924482-fa62-443d-ac92-2340f9be4657',\n",
       "  'HTTPStatusCode': 200,\n",
       "  'HTTPHeaders': {'date': 'Sat, 13 Nov 2021 02:07:06 GMT',\n",
       "   'content-type': 'application/x-amz-json-1.0',\n",
       "   'x-amz-crc32': '2745614147',\n",
       "   'x-amzn-requestid': '81924482-fa62-443d-ac92-2340f9be4657',\n",
       "   'content-length': '2',\n",
       "   'server': 'Jetty(9.4.18.v20190429)'},\n",
       "  'RetryAttempts': 0}}"
      ]
     },
     "execution_count": 8,
     "metadata": {},
     "output_type": "execute_result"
    }
   ],
   "source": [
    "db.Table('match').put_item(\n",
    "       Item={\n",
    "            'client_id': 'ex',\n",
    "            'coach_id':'ex',\n",
    "        }\n",
    ")"
   ]
  },
  {
   "cell_type": "code",
   "execution_count": 9,
   "metadata": {},
   "outputs": [
    {
     "data": {
      "text/plain": [
       "dynamodb.Table(name='subscription')"
      ]
     },
     "execution_count": 9,
     "metadata": {},
     "output_type": "execute_result"
    }
   ],
   "source": [
    "db.create_table(\n",
    "    TableName='subscription',\n",
    "    KeySchema=[\n",
    "        {'AttributeName': 'subscription_id',   'KeyType': 'HASH'},\n",
    "    ],\n",
    "    \n",
    "    AttributeDefinitions=[\n",
    "        {'AttributeName': 'subscription_id', 'AttributeType': 'S'},\n",
    "    ],\n",
    "    ProvisionedThroughput={'ReadCapacityUnits': 5, 'WriteCapacityUnits': 5}\n",
    ")"
   ]
  },
  {
   "cell_type": "code",
   "execution_count": 10,
   "metadata": {},
   "outputs": [
    {
     "data": {
      "text/plain": [
       "{'ResponseMetadata': {'RequestId': '81308ea2-86ba-413c-8897-21ed662f8897',\n",
       "  'HTTPStatusCode': 200,\n",
       "  'HTTPHeaders': {'date': 'Sat, 13 Nov 2021 02:07:14 GMT',\n",
       "   'content-type': 'application/x-amz-json-1.0',\n",
       "   'x-amz-crc32': '2745614147',\n",
       "   'x-amzn-requestid': '81308ea2-86ba-413c-8897-21ed662f8897',\n",
       "   'content-length': '2',\n",
       "   'server': 'Jetty(9.4.18.v20190429)'},\n",
       "  'RetryAttempts': 0}}"
      ]
     },
     "execution_count": 10,
     "metadata": {},
     "output_type": "execute_result"
    }
   ],
   "source": [
    "db.Table('subscription').put_item(\n",
    "       Item={\n",
    "            'subscription_id':'ex',\n",
    "            'session_count':'2',\n",
    "            'coach_count':'3',\n",
    "        }\n",
    ")"
   ]
  },
  {
   "cell_type": "code",
   "execution_count": 11,
   "metadata": {},
   "outputs": [
    {
     "data": {
      "text/plain": [
       "dynamodb.Table(name='session')"
      ]
     },
     "execution_count": 11,
     "metadata": {},
     "output_type": "execute_result"
    }
   ],
   "source": [
    "db.create_table(\n",
    "    TableName='session',\n",
    "    KeySchema=[\n",
    "        {'AttributeName': 'client_id',   'KeyType': 'HASH'},\n",
    "        {'AttributeName': 'coach_id',      'KeyType': 'RANGE'},\n",
    "    ],\n",
    "    \n",
    "    AttributeDefinitions=[\n",
    "        {'AttributeName': 'client_id', 'AttributeType': 'S'},\n",
    "        {'AttributeName': 'coach_id','AttributeType': 'S'},\n",
    "    ],\n",
    "    ProvisionedThroughput={'ReadCapacityUnits': 5, 'WriteCapacityUnits': 5}\n",
    ")"
   ]
  },
  {
   "cell_type": "code",
   "execution_count": 12,
   "metadata": {},
   "outputs": [
    {
     "data": {
      "text/plain": [
       "{'ResponseMetadata': {'RequestId': '7e2d70d5-e258-4795-856a-2dd55eda303e',\n",
       "  'HTTPStatusCode': 200,\n",
       "  'HTTPHeaders': {'date': 'Sat, 13 Nov 2021 02:07:21 GMT',\n",
       "   'content-type': 'application/x-amz-json-1.0',\n",
       "   'x-amz-crc32': '2745614147',\n",
       "   'x-amzn-requestid': '7e2d70d5-e258-4795-856a-2dd55eda303e',\n",
       "   'content-length': '2',\n",
       "   'server': 'Jetty(9.4.18.v20190429)'},\n",
       "  'RetryAttempts': 0}}"
      ]
     },
     "execution_count": 12,
     "metadata": {},
     "output_type": "execute_result"
    }
   ],
   "source": [
    "db.Table('session').put_item(\n",
    "       Item={\n",
    "            'client_id': 'ex',\n",
    "            'coach_id':'ex',\n",
    "            'date':'ex',\n",
    "            'time':'ex',\n",
    "            'completion':'ex',\n",
    "            'length':'ex',\n",
    "            'Clf_coach_satisfaction':'ex',\n",
    "            'Clf_working_areas':'ex',\n",
    "            'Clf_effectiveness':'ex',\n",
    "            'Clf_coach_support':'ex',\n",
    "            'Clf_revogens_satisfaction':'ex',\n",
    "            'Clf_revogens_support':'ex',\n",
    "            'Clf_coach_change':'ex',\n",
    "            'Clf_change_reason':'ex',\n",
    "            'Clf_no_change_reason':'ex',\n",
    "            'Clf_share_optin':'ex',\n",
    "            'Clf_additional_share':'ex',\n",
    "            'cof_match_satisfaction':'ex',\n",
    "            'cof_satisfaction_reason':'ex',\n",
    "            'cof_revogens_satisfaction':'ex',\n",
    "            'cof_revogens_support':'ex',\n",
    "            'cof_additional_share':'ex',           \n",
    "        }\n",
    ")"
   ]
  },
  {
   "cell_type": "code",
   "execution_count": 40,
   "metadata": {},
   "outputs": [],
   "source": [
    "client=db.Table('client').get_item(Key={'email': 'nguyen.minh.chau@hotmail.com'})['Item']"
   ]
  },
  {
   "cell_type": "code",
   "execution_count": 41,
   "metadata": {},
   "outputs": [
    {
     "data": {
      "text/plain": [
       "{'birthday': '7588',\n",
       " 'country': 'United States',\n",
       " 'gender': 'ju',\n",
       " 'apt_ste_bldg': '',\n",
       " 'city': 'Fairfax',\n",
       " 'last_name': 'Nguyen',\n",
       " 'middle_name': 'Minh',\n",
       " 'zip_code': '22030',\n",
       " 'mailing_address': '11615 Fairfax Commons Drive',\n",
       " 'password': '222',\n",
       " 'signup_date': '2021-11-13 22:41:34.761244',\n",
       " 'phone': '7032233273',\n",
       " 'booking_link': 'none',\n",
       " 'state': 'VA',\n",
       " 'first_name': 'Chau',\n",
       " 'email': 'nguyen.minh.chau@hotmail.com'}"
      ]
     },
     "execution_count": 41,
     "metadata": {},
     "output_type": "execute_result"
    }
   ],
   "source": [
    "client"
   ]
  },
  {
   "cell_type": "code",
   "execution_count": 42,
   "metadata": {},
   "outputs": [],
   "source": [
    "client['booking_link']='this is your link'"
   ]
  },
  {
   "cell_type": "code",
   "execution_count": 8,
   "metadata": {},
   "outputs": [
    {
     "data": {
      "text/plain": [
       "[{'contributor': 'cmn0705@gmail.com',\n",
       "  'question': 'What is needed before you can enable cross-region replication on an Amazon Simple Storage Service (Amazon S3) bucket? (Choose 2 answers)\\r\\nA. Enable versioning on the bucket.\\r\\nB. Enable a lifecycle rule to migrate data to the second region.\\r\\nC. Enable static website hosting.\\r\\nD. Create an AWS Identity and Access Management (IAM) policy to allow Amazon S3 to replicate objects on your behalf.',\n",
       "  'id': '1541440918184246378269697201736639118243868',\n",
       "  'answer': 'A,D'},\n",
       " {'contributor': 'cmn0705@gmail.com',\n",
       "  'question': 'Which of the following are not appropriates use cases for Amazon Simple Storage Service (Amazon S3)? (Choose 2 answers)\\r\\nA. Storing web content\\r\\nB. Storing a file system mounted to an Amazon Elastic Compute Cloud (Amazon EC2) instance\\r\\nC. Storing backups for a relational database\\r\\nD. Primary storage for a database\\r\\nE. Storing logs for analytics',\n",
       "  'id': '10566511203604524310773881921099261028676',\n",
       "  'answer': 'B,D'},\n",
       " {'contributor': 'cmn0705@gmail.com',\n",
       "  'question': 'To have a record of who accessed your Amazon Simple Storage Service (Amazon S3) data and from where, you should do what?\\r\\nA. Enable versioning on the bucket.\\r\\nB. Enable website hosting on the bucket.\\r\\nC. Enable server access logs on the bucket.\\r\\nD. Create an AWS Identity and Access Management (IAM) bucket policy.\\r\\nE. Enable Amazon CloudWatch logs.',\n",
       "  'id': '89812222038555842253239726850478230883',\n",
       "  'answer': 'C'},\n",
       " {'contributor': 'cmn0705@gmail.com',\n",
       "  'question': 'Your company requires that all data sent to external storage be encrypted before being sent. Which Amazon Simple Storage Service (Amazon S3) encryption solution will meet this requirement?\\r\\nA. Server-Side Encryption (SSE) with AWS-managed keys (SSE-S3)\\r\\nB. SSE with customer-provided keys (SSE-C)\\r\\nC. Client-side encryption with customer-managed keys\\r\\nD. Server-side encryption with AWS Key Management Service (AWS KMS) keys (SSE-KMS)',\n",
       "  'id': '1848431902901803618015368455087937092125',\n",
       "  'answer': 'C'},\n",
       " {'contributor': 'cmn0705@gmail.com',\n",
       "  'question': 'You have valuable media files hosted on AWS and want them to be served only to authenticated users of your web application. You are concerned that your content could be stolen and distributed for free. How can you protect your content?\\r\\nA. Use static web hosting.\\r\\nB. Generate pre-signed URLs for content in the web application.\\r\\nC. Use AWS Identity and Access Management (IAM) policies to restrict access.\\r\\nD. Use logging to track your content.',\n",
       "  'id': '5375193237876649435529167910949531579431',\n",
       "  'answer': 'B'},\n",
       " {'contributor': 'cmn0705@gmail.com',\n",
       "  'question': 'Your company stores documents in Amazon Simple Storage Service (Amazon S3), but it wants to minimize cost. Most documents are used actively for only about a month, then much less frequently. However, all data needs to be available within minutes when requested. How can you meet these requirements?\\r\\nA. Migrate the data to Amazon S3 Reduced Redundancy Storage (RRS) after 30 days.\\r\\nB. Migrate the data to Amazon Glacier after 30 days.\\r\\nC. Migrate the data to Amazon S3 Standard - Infrequent Access (IA) after 30 days.\\r\\nD. Turn on versioning, then migrate the older version to Amazon Glacier.',\n",
       "  'id': '7866743129477037237841149158885104251737',\n",
       "  'answer': 'C'},\n",
       " {'contributor': 'cmn0705@gmail.com',\n",
       "  'question': 'What are some of the key characteristics of Amazon Simple Storage Service (Amazon S3)? (Choose 3 answers)\\r\\nA. All objects have a URL.\\r\\nB. Amazon S3 can store unlimited amounts of data.\\r\\nC. Objects are world-readable by default.\\r\\nD. Amazon S3 uses a REST (Representational State Transfer) Application Program Interface (API).\\r\\nE. You must pre-allocate the storage in a bucket.',\n",
       "  'id': '213561812897103343107738625201484404129',\n",
       "  'answer': 'A,B,D'},\n",
       " {'contributor': 'cmn0705@gmail.com',\n",
       "  'question': '',\n",
       "  'time_added': '2021-11-21 07:48:59.324764',\n",
       "  'id': '42949673124294967312429496731242949673124294967312',\n",
       "  'answer': ''},\n",
       " {'contributor': 'cmn0705@gmail.com',\n",
       "  'question': 'Which service would you use to most effectively reduce the latency your end users experi¬ence when accessing your application resources over the Internet?\\r\\nA. Amazon CloudFront\\r\\nB. Amazon Route 53\\r\\nC. Elastic Load Balancing\\r\\nD. Amazon Glacier',\n",
       "  'short_id': Decimal('3689828'),\n",
       "  'time_added': '2021-11-21 09:41:35.867427',\n",
       "  'id': '368982816783275514924638108476138126829249',\n",
       "  'answer': 'A'},\n",
       " {'contributor': 'cmn0705@gmail.com',\n",
       "  'question': 'In what ways does Amazon Simple Storage Service (Amazon S3) object storage differ from block and file storage? (Choose 2 answers)\\r\\nA. Amazon S3 stores data in fixed size blocks.\\r\\nB. Objects are identified by a numbered address.\\r\\nC. Objects can be any size.\\r\\nD. Objects contain both data and metadata.\\r\\nE. Objects are stored in buckets.',\n",
       "  'id': '5627808052804224531299255117972971418335',\n",
       "  'answer': 'D,E'},\n",
       " {'contributor': 'cmn0705@gmail.com',\n",
       "  'question': 'What are some reasons to enable cross-region replication on an Amazon Simple Storage Service (Amazon S3) bucket? (Choose 2 answers)\\r\\nA. You want a backup of your data in case of accidental deletion.\\r\\nB. You have a set of users or customers who can access the second bucket with lower latency.\\r\\nC. For compliance reasons, you need to store data in a location at least 300 miles away from the first region.\\r\\nD. Your data needs at least five nines of durability.',\n",
       "  'id': '6880991786476091575501766087595556615203',\n",
       "  'answer': 'B,C'},\n",
       " {'contributor': 'cmn0705@gmail.com',\n",
       "  'question': 'Which statements about Amazon Glacier are true? (Choose 3 answers)\\r\\nA. Amazon Glacier stores data in objects that live in archives.\\r\\nB. Amazon Glacier archives are identified by user-specified key names.\\r\\nC. Amazon Glacier archives take three to five hours to restore.\\r\\nD. Amazon Glacier vaults can be locked.\\r\\nE. Amazon Glacier can be used as a standalone service and as an Amazon S3 storage class.',\n",
       "  'id': '29988942303661313953176121489999713032437',\n",
       "  'answer': 'C,D,E'},\n",
       " {'contributor': 'cmn0705@gmail.com',\n",
       "  'question': 'How is data stored in Amazon Simple Storage Service (Amazon S3) for high durability?\\r\\nA. Data is automatically replicated to other regions.\\r\\nB. Data is automatically replicated within a region.\\r\\nC. Data is replicated only if versioning is enabled on the bucket.\\r\\nD. Data is automatically backed up on tape and restored if needed.',\n",
       "  'id': '108231270958008153852042411286935155313989',\n",
       "  'answer': 'B'},\n",
       " {'contributor': 'cmn0705@gmail.com',\n",
       "  'question': 'Your company has 100TB of financial records that need to be stored for seven years by law. Experience has shown that any record more than one-year old is unlikely to be accessed. Which of the following storage plans meets these needs in the most cost efficient manner?\\r\\nA. Store the data on Amazon Elastic Block Store (Amazon EBS) volumes attached to t2.micro instances.\\r\\nB. Store the data on Amazon Simple Storage Service (Amazon S3) with lifecycle policies that change the storage class to Amazon Glacier after one year and delete the object after seven years.\\r\\nC. Store the data in Amazon DynamoDB and run daily script to delete data older than seven years.\\r\\nD. Store the data in Amazon Elastic MapReduce (Amazon EMR).',\n",
       "  'id': '12945956203604521286996408106889080379245',\n",
       "  'answer': 'B'},\n",
       " {'contributor': 'cmn0705@gmail.com',\n",
       "  'question': 'You have a popular web application that accesses data stored in an Amazon Simple Storage Service (Amazon S3) bucket. You expect the access to be very read-intensive, with expected request rates of up to 500 GETs per second from many clients. How can you increase the performance and scalability of Amazon S3 in this case?\\r\\nA. Turn on cross-region replication to ensure that data is served from multiple locations.\\r\\nB. Ensure randomness in the namespace by including a hash prefix to key names.\\r\\nC. Turn on server access logging.\\r\\nD. Ensure that key names are sequential to enable pre-fetch.',\n",
       "  'id': '2012521439711485548211612903265690873175',\n",
       "  'answer': 'B'},\n",
       " {'contributor': 'cmn0705@gmail.com',\n",
       "  'question': 'Your application stores critical data in Amazon Simple Storage Service (Amazon S3), which must be protected against inadvertent or intentional deletion. How can this data be protected? (Choose 2 answers)\\r\\nA. Use cross-region replication to copy data to another bucket automatically.\\r\\nB. Set a vault lock.\\r\\nC. Enable versioning on the bucket.\\r\\nD. Use a lifecycle policy to migrate data to Amazon Glacier.\\r\\nE. Enable MFA Delete on the bucket.',\n",
       "  'id': '2061462847745427214627465383377757823645',\n",
       "  'answer': 'C,E'},\n",
       " {'contributor': 'cmn0705@gmail.com',\n",
       "  'question': 'Amazon Simple Storage Service (S3) bucket policies can restrict access to an Amazon S3 bucket and objects by which of the following? (Choose 3 answers)\\r\\nA. Company name\\r\\nB. IP address range\\r\\nC. AWS account\\r\\nD. Country of origin\\r\\nE. Objects with a specific prefix',\n",
       "  'id': '805729726002298299846368448472558583868',\n",
       "  'answer': 'B,C,E'},\n",
       " {'contributor': 'cmn0705@gmail.com',\n",
       "  'question': 'Amazon Glacier is well-suited to data that is which of the following? (Choose 2 answers)\\r\\nA. Is infrequently or rarely accessed\\r\\nB. Must be immediately available when needed\\r\\nC. Is available after a three- to five-hour restore period\\r\\nD. Is frequently erased within 30 days',\n",
       "  'id': '1975022084082394456516938148560291319105',\n",
       "  'answer': 'A,C'},\n",
       " {'contributor': 'cmn0705@gmail.com',\n",
       "  'question': 'Amazon Simple Storage Service (Amazon S3) is an eventually consistent storage system. For what kinds of operations is it possible to get stale data as a result of eventual consistency? (Choose 2 answers)\\r\\nA. GET after PUT of a new object\\r\\nB. GET or LIST after a DELETE\\r\\nC. GET after overwrite PUT (PUT to an existing key)\\r\\nD. DELETE after PUT of new object',\n",
       "  'id': '2704904146474983606443706933568146444268',\n",
       "  'answer': 'B,C'},\n",
       " {'contributor': 'cmn0705@gmail.com',\n",
       "  'question': 'Based on the following Amazon Simple Storage Service (Amazon S3) URL, which one of the following statements is correct?\\r\\n\\r\\nhttps://bucket1.abc.com.s3.amazonaws.com/folderx/myfile.doc\\r\\nA. The object \"myfile.doc\" is stored in the folder \"folderx\" in the bucket \"bucket1.abc.com.\"\\r\\nB. The object \"myfile.doc\" is stored in the bucket \"bucket1.abc.com.\"\\r\\nC. The object \"folderx/myfile.doc\" is stored in the bucket \"bucket1.abc.com.\"\\r\\nD. The object \"myfile.doc\" is stored in the bucket \"bucketl.\"',\n",
       "  'id': '26780730237930164477410227283374231932017',\n",
       "  'answer': 'C'},\n",
       " {'contributor': 'cmn0705@gmail.com',\n",
       "  'question': 'What must be done to host a static website in an Amazon Simple Storage Service (Amazon S3) bucket? (Choose 3 answers)\\r\\nA. Configure the bucket for static hosting and specify an index and error document.\\r\\nB. Create a bucket with the same name as the website.\\r\\nC. Enable File Transfer Protocol (FTP) on the bucket.\\r\\nD. Make the objects in the bucket world-readable.\\r\\nE. Enable HTTP on the bucket.',\n",
       "  'id': '129711316703716124275943627784222231932017',\n",
       "  'answer': 'A,B,D'},\n",
       " {'contributor': 'cmn0705@gmail.com',\n",
       "  'question': 'Which features can be used to restrict access to Amazon Simple Storage Service (Amazon S3) data? (Choose 3 answers)\\r\\nA. Enable static website hosting on the bucket.\\r\\nB. Create a pre-signed URL for an object.\\r\\nC. Use an Amazon S3 Access Control List (ACL) on a bucket or object.\\r\\nD. Use a lifecycle policy.\\r\\nE. Use an Amazon S3 bucket policy.',\n",
       "  'id': '222156358422018875751516683196271968461',\n",
       "  'answer': 'B,C,E'},\n",
       " {'contributor': 'cmn0705@gmail.com',\n",
       "  'question': '1. Your developers want to run fully provisioned EC2 instances to support their application code deployments but prefer not to have to worry about manually configuring and launch¬ing the necessary infrastructure. Which of the following should they use?\\r\\nA. AWS Lambda\\r\\nB. AWS Elastic Beanstalk\\r\\nC. Amazon EC2 Auto Scaling\\r\\nD. Amazon Route 53',\n",
       "  'time_added': '2021-11-21 07:47:59.742540',\n",
       "  'id': '40849835203604524168453910124545813828794',\n",
       "  'answer': 'B'}]"
      ]
     },
     "execution_count": 8,
     "metadata": {},
     "output_type": "execute_result"
    }
   ],
   "source": [
    "from boto3.dynamodb.conditions import Key\n",
    "db.Table('aws_saa_questions').scan()['Items']"
   ]
  },
  {
   "cell_type": "code",
   "execution_count": 17,
   "metadata": {},
   "outputs": [
    {
     "data": {
      "text/plain": [
       "[{'contributor': 'cmn0705@gmail.com',\n",
       "  'question': 'Which service would you use to most effectively reduce the latency your end users experi¬ence when accessing your application resources over the Internet?\\r\\nA. Amazon CloudFront\\r\\nB. Amazon Route 53\\r\\nC. Elastic Load Balancing\\r\\nD. Amazon Glacier',\n",
       "  'short_id': Decimal('3689828'),\n",
       "  'time_added': '2021-11-21 09:41:35.867427',\n",
       "  'id': '368982816783275514924638108476138126829249',\n",
       "  'answer': 'A'}]"
      ]
     },
     "execution_count": 17,
     "metadata": {},
     "output_type": "execute_result"
    }
   ],
   "source": [
    "from boto3.dynamodb.conditions import Key, Attr\n",
    "db.Table('aws_saa_questions').scan(FilterExpression=Attr('short_id').gt(3689827))['Items'] #greater than 3689827\n",
    "\n"
   ]
  },
  {
   "cell_type": "code",
   "execution_count": 30,
   "metadata": {},
   "outputs": [
    {
     "ename": "TypeError",
     "evalue": "list indices must be integers or slices, not str",
     "output_type": "error",
     "traceback": [
      "\u001b[0;31m---------------------------------------------------------------------------\u001b[0m",
      "\u001b[0;31mTypeError\u001b[0m                                 Traceback (most recent call last)",
      "\u001b[0;32m/var/folders/8h/qpq6mw7x6kz8xb3mbt195xxh0000gn/T/ipykernel_88680/2054342870.py\u001b[0m in \u001b[0;36m<module>\u001b[0;34m\u001b[0m\n\u001b[0;32m----> 1\u001b[0;31m \u001b[0mlist_id\u001b[0m\u001b[0;34m=\u001b[0m\u001b[0mdb\u001b[0m\u001b[0;34m.\u001b[0m\u001b[0mTable\u001b[0m\u001b[0;34m(\u001b[0m\u001b[0;34m'aws_saa_questions'\u001b[0m\u001b[0;34m)\u001b[0m\u001b[0;34m.\u001b[0m\u001b[0mscan\u001b[0m\u001b[0;34m(\u001b[0m\u001b[0mProjectionExpression\u001b[0m\u001b[0;34m=\u001b[0m\u001b[0;34m\"id\"\u001b[0m\u001b[0;34m)\u001b[0m\u001b[0;34m[\u001b[0m\u001b[0;34m'Items'\u001b[0m\u001b[0;34m]\u001b[0m\u001b[0;34m[\u001b[0m\u001b[0;34m'id'\u001b[0m\u001b[0;34m]\u001b[0m\u001b[0;34m\u001b[0m\u001b[0;34m\u001b[0m\u001b[0m\n\u001b[0m",
      "\u001b[0;31mTypeError\u001b[0m: list indices must be integers or slices, not str"
     ]
    }
   ],
   "source": [
    "list_id=db.Table('aws_saa_questions').scan(ProjectionExpression=\"id\")['Items']"
   ]
  },
  {
   "cell_type": "code",
   "execution_count": 29,
   "metadata": {},
   "outputs": [
    {
     "data": {
      "text/plain": [
       "'7866743129477037237841149158885104251737'"
      ]
     },
     "execution_count": 29,
     "metadata": {},
     "output_type": "execute_result"
    }
   ],
   "source": [
    "import random\n",
    "random.choice(list_id)['id']"
   ]
  },
  {
   "cell_type": "code",
   "execution_count": 8,
   "metadata": {},
   "outputs": [
    {
     "data": {
      "text/plain": [
       "['4901650092036045210956969918366844024510843',\n",
       " '16516766420360452217750735135078458904828',\n",
       " '346919426185951056109254123074546386920',\n",
       " '101931365203604523015586628443974121203472',\n",
       " '69218599203604521789484274037433161814706',\n",
       " '27049948413774816393728557528524990600207',\n",
       " '6666194920360452727781731355354496708529',\n",
       " '692203551126552214637636114585320211418033',\n",
       " '1200287923690211214713634876827578594385',\n",
       " '2153621202036045245430508513507843241716',\n",
       " '458558731533037881893396073563652572279634',\n",
       " '627204523120422871301398223653926688149263530',\n",
       " '31746801423453486513359303019718383396024420',\n",
       " '510178661534318425031562810462802213193002',\n",
       " '67389072036045287838421676191549970801',\n",
       " '5651569262036045222114960422122973928970617',\n",
       " '304015214203604522182030017830050218276682',\n",
       " '904736042694684853804285543656794110429925',\n",
       " '159917695203604523439872587686687948015787',\n",
       " '72498498254855903895482123132392911259509645',\n",
       " '789419817545312923824529531204130424246940',\n",
       " '196729521173362821383242343524841844918892',\n",
       " '448774582036045229965738221596174275691252',\n",
       " '4002264371994842916896500138430326606616516',\n",
       " '669807433349959405166189316635580600714924',\n",
       " '717480622561867154337935095048835766575',\n",
       " '384612511815138866136461860650925136671',\n",
       " '1160639009682421647667226885592362374654229',\n",
       " '74880949989393009102580386615116031028720973',\n",
       " '277096905100983332829994768604988207382',\n",
       " '418293202912837023886499571363482316630',\n",
       " '659178774526046622938977107016621267647735',\n",
       " '62028686178108515847735990532851116833052',\n",
       " '146991384492831275008285216724644238084019',\n",
       " '51935336190069753946748314589076418818110',\n",
       " '203592920203604527848990300785356125662049',\n",
       " '182981223203604522657335126551647717218143',\n",
       " '49977097203604523348580860272008109730193',\n",
       " '3699402863426772081286350877273004642623301058',\n",
       " '7926158031232644290446854372250325240472768',\n",
       " '1286041502036045211651562822272375189499',\n",
       " '94848413195171755162682980383709987722113',\n",
       " '7235534051630707182532459838042130724543',\n",
       " '9055934920360452543180103715538648412013',\n",
       " '359363152061114123635320625182122120495776',\n",
       " '34020428520360452143561850420540564237984891',\n",
       " '2098556732036045251801389341116076343000982',\n",
       " '425770237291994248298007090147994407155313989',\n",
       " '29959757327462077668896416423151594818935271',\n",
       " '290655008483909896321631396783957465943',\n",
       " '820266402036045224390172188501655183685109',\n",
       " '738756220360452752679665349996977259911',\n",
       " '785340591925662251166620729181801462314564',\n",
       " '390498012036045263551041587259959567416',\n",
       " '334646462036045217691627835535449806266029',\n",
       " '3356478349794753114205968114453803374634513',\n",
       " '5995392825492573112274390846118900149209845',\n",
       " '13611701914010316822575611601124441485057',\n",
       " '11318371820360452285170643385710714309746',\n",
       " '10683408241766428157000019140809456219559369',\n",
       " '5185376515154706495398007780578154786639',\n",
       " '878859301187441191986955366181063145713002',\n",
       " '31444928520360452693335028953998126589733',\n",
       " '163743547524451037415519421207038076454481294',\n",
       " '23782878183878272701811174628070927379202',\n",
       " '96960834203604527732738938015361136983000',\n",
       " '41796312620360452311936206343229858207290044',\n",
       " '28751369720497221064530581058668207290044',\n",
       " '1696648483568936232228202390437412127356141',\n",
       " '154643304522578180201883287187219686276032698',\n",
       " '3850210081972468054989231105482191237297835',\n",
       " '27351887959242793581841438189784523428499221',\n",
       " '1519920257461896109630258843880716435573',\n",
       " '415983879656571578128845621289461172169052',\n",
       " '14144851320360452302382545694178831999192',\n",
       " '269191390678171144164469367524478105497620',\n",
       " '3794161802036045236474036109977685150839474',\n",
       " '2312777939759533322999575337042042738084019',\n",
       " '16059718814141357217388701717368393209842225',\n",
       " '1051284442036045212395175888951268306310380',\n",
       " '23085275179497958480684653672046911093236953',\n",
       " '20359292020360452784899056371489088206154',\n",
       " '42490923203604525431801056549957260899529',\n",
       " '9399139797474545636545521091167271262205',\n",
       " '2812978671696161839381305193200374067021',\n",
       " '12622869410070330825460605022191171654007939',\n",
       " '460279788645795517675737014071800538174983',\n",
       " '2041032511744282623067972243677400104055918',\n",
       " '200286602036045221445896134794319172169052',\n",
       " '26114226897096548107833501159897762689414',\n",
       " '4339636362516035144784445436860168094212',\n",
       " '77377475320360452522876046205661434620715274',\n",
       " '26132693155206683422315347914109215893558',\n",
       " '73650248203604528065527833977956848055613',\n",
       " '18988294915148960209740932625349818332200',\n",
       " '1658495520360452585440452555821558165609',\n",
       " '1082915402036045223811289126115681174324611',\n",
       " '6460345020360452130973156061617357613975',\n",
       " '630228492036045250141281496792803133041741',\n",
       " '33951784446889599616638094429128282280646812',\n",
       " '58500672409558511473071626446230794175517',\n",
       " '6993737035277650217356643893765614282038503',\n",
       " '1867999872036045216325003711293273511448512',\n",
       " '9392056720360452214996496188881179171311762',\n",
       " '2496018762036045258684334341880772393004',\n",
       " '911094782036045255764874308532985974500438',\n",
       " '595622637287355375188019187576032114108845',\n",
       " '14789280748575133937285547914109112633928',\n",
       " '59946713632554510010139719831669210234612',\n",
       " '5927616232190030647902809661024117225000130',\n",
       " '128904800173362831121249343524841141037704',\n",
       " '3799294818697507825699012140729403104469166',\n",
       " '1868108132036045266195827476685186311004521',\n",
       " '19203787203604525002303816506874730834266',\n",
       " '1894585342036045210647189919425618945226',\n",
       " '34676265100182959940042001550557927874027',\n",
       " '1361709132036045225880136043896142631302',\n",
       " '7580177337484822545747647734685067602006',\n",
       " '5059356299844735764818355924242541207',\n",
       " '11325078720360452211135257176093178963943',\n",
       " '5981886091889898610452982472658930144630141',\n",
       " '2939902036045252143464419539649167434299',\n",
       " '132947640747198333768250495819506111310374',\n",
       " '111867304999078319285191513245505215599709',\n",
       " '19522668314660471279552251999389631900908',\n",
       " '1521345231125149831761651782988252084017633',\n",
       " '1410473241337114617529711518655962037479003',\n",
       " '110037331705847627529711513194967394175517',\n",
       " '876395205592427935275025680794624175184585743',\n",
       " '655405524146377383832506910209046919689371',\n",
       " '69416814920360452436120421436343745238202606',\n",
       " '333214798119619957143520818172549439139536474',\n",
       " '225715071215356821937702718197715211381089',\n",
       " '33481960013962353515030061778612106108843304',\n",
       " '52986882613338341369069164853895490358265',\n",
       " '194071746188794463807513710283322331937877',\n",
       " '174026039641868149045488468408671974840',\n",
       " '7686424320360452543060731171351365765063',\n",
       " '1642616186294852729611701611518691042945',\n",
       " '138160693516603614584544179135365321293230649',\n",
       " '3361911342036045212397490226630676114643080',\n",
       " '3591652525238710223969084211619188112234189',\n",
       " '4170379162036045230511192218495715369349438',\n",
       " '14104732434868367752971152238878463323701',\n",
       " '64172126203604529485303910462802599280790',\n",
       " '3006714383066879061097921603319943798576140',\n",
       " '77708355783753401174376968526025023515144',\n",
       " '61202329982890195418992054543359115994806',\n",
       " '1364985720360452161684471197631030574353',\n",
       " '39659230622453684673659828460466850814827',\n",
       " '69565020772465782737958202373464412689414',\n",
       " '107824694660713673408429166678515697724561760',\n",
       " '120725204203604525507062459967394133277203',\n",
       " '14224916418939363206363939901939130429911',\n",
       " '1242617502036045223770482910060715082800646',\n",
       " '3837117020360452500091985000843037920603',\n",
       " '29847480228027528622098095146354214791706930',\n",
       " '323445506289645235163991130728660960903',\n",
       " '201643783961667113942305059778935800406',\n",
       " '288842820348869417666668178953789681380524834',\n",
       " '14788725495285430076718802055527541853',\n",
       " '5136952624798473824414024147617134108756901',\n",
       " '88783306134872423521945462959274075515191',\n",
       " '519663391203604522419091317238571525118155',\n",
       " '390498012036045249519726587259959567416',\n",
       " '454899804096568751518879926258607938176517',\n",
       " '3904980120360452635510415872599196079580',\n",
       " '6265926203604522522095682352621593940351',\n",
       " '68472790120425243770637519577010134510529',\n",
       " '602993232036045218838866233326516557106021',\n",
       " '99165990203604526221171920224257317286555',\n",
       " '254630043889894976740997015825952592269335',\n",
       " '93053227203604523519555817986270067298533',\n",
       " '10745305920360452180515679243696768166127505',\n",
       " '37996734142847978778938396811636812199423',\n",
       " '12327154227536196013448409134184123202531601',\n",
       " '90628220360452410278843823153451807483',\n",
       " '72716124111841339253030637350562812689414',\n",
       " '1893262099820315932095526672617584532131',\n",
       " '14972756203604524165493711656663520790188',\n",
       " '1306519606167759987530018961862618134780',\n",
       " '38618668519703825327711679153804838352254120',\n",
       " '24659497615120040498480002300261644633206',\n",
       " '2165144020360452274669855346535640057915',\n",
       " '1234370055041896726739012184228161641463',\n",
       " '202868205257442336830714867777777224787387',\n",
       " '146481883203604528232459316927060228694271',\n",
       " '751980663822393003663611022629261898175',\n",
       " '27143196347738991928244360299044791590443244',\n",
       " '1076974320360452120546121262396930196713877',\n",
       " '1757419041428472112720159017122358190358265',\n",
       " '101200615203604522471498827116598352362081',\n",
       " '25089849382970927960241886938982478677',\n",
       " '42901706159609642858432623541171232956010',\n",
       " '2791772374384904919249726936389136175288886',\n",
       " '187615019916101771650342535154498355464991',\n",
       " '13764468916948793218228834817528395855353414',\n",
       " '97627195203604521492116363961606928994561',\n",
       " '27656707820360452583503985029124428594920',\n",
       " '3530095320360452693813704347214038485670195',\n",
       " '11052395336100459080683031707035917039810',\n",
       " '20046101034935387247434336368340241699220052',\n",
       " '3247536562036045218051567921909011364290691',\n",
       " '1704297332036045214038810214553456226390520',\n",
       " '93053227203604523519555815363627767298533',\n",
       " '19963382987068942557511625211967273346668',\n",
       " '136285331344668159246664171123889406119610154',\n",
       " '3455473203604521767709463970478193644616',\n",
       " '33361135039788589062089516049234533117127731',\n",
       " '39617299211754942711691484520176238614577',\n",
       " '1033525864231695563563296411342228645381123',\n",
       " '18815705919333027918754327099020342100927392',\n",
       " '94433543203604521386886311000413255297464',\n",
       " '113056982676971087767448971425465541202470140',\n",
       " '20077011512091604224555710634507879553255959',\n",
       " '14201001245076845121865711270313655264918141',\n",
       " '1400686703281685951478193175702020562999898',\n",
       " '57013519563572695756198953386434143120489',\n",
       " '8129175377186231164020365898765045589507',\n",
       " '1301542938162207537457702492047879088256']"
      ]
     },
     "execution_count": 8,
     "metadata": {},
     "output_type": "execute_result"
    }
   ],
   "source": [
    "[items['id'] for items in db.Table('aws_cp_questions').scan(ProjectionExpression=\"id\")['Items']]\n"
   ]
  },
  {
   "cell_type": "markdown",
   "metadata": {},
   "source": []
  }
 ],
 "metadata": {
  "interpreter": {
   "hash": "613ea51fc17cb2f5739a9cf42600c1ba35eea4ed90f74434cfc1c98275614d8a"
  },
  "kernelspec": {
   "display_name": "Python 3 (ipykernel)",
   "language": "python",
   "name": "python3"
  },
  "language_info": {
   "codemirror_mode": {
    "name": "ipython",
    "version": 3
   },
   "file_extension": ".py",
   "mimetype": "text/x-python",
   "name": "python",
   "nbconvert_exporter": "python",
   "pygments_lexer": "ipython3",
   "version": "3.7.2"
  },
  "toc": {
   "base_numbering": 1,
   "nav_menu": {},
   "number_sections": true,
   "sideBar": true,
   "skip_h1_title": false,
   "title_cell": "Table of Contents",
   "title_sidebar": "Contents",
   "toc_cell": false,
   "toc_position": {},
   "toc_section_display": true,
   "toc_window_display": false
  }
 },
 "nbformat": 4,
 "nbformat_minor": 2
}
