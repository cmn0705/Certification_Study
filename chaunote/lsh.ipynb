{
 "cells": [
  {
   "cell_type": "code",
   "execution_count": 1,
   "metadata": {},
   "outputs": [],
   "source": [
    "def shingleSet(text):\n",
    "    import binascii\n",
    "    words = text.split(\" \")\n",
    "    shingleSet = set()\n",
    "    for i in range(0, len(words) - 2):\n",
    "        shingle = words[i] + \" \" + words[i + 1] + \" \" + words[i + 2] # 3 consecutive words\n",
    "        crc = binascii.crc32(shingle.encode()) & 0xffffffff # Hash the shingle to a 32-bit integer\n",
    "        shingleSet.add(crc)\n",
    "    return shingleSet"
   ]
  },
  {
   "cell_type": "code",
   "execution_count": 2,
   "metadata": {},
   "outputs": [
    {
     "data": {
      "text/plain": [
       "5"
      ]
     },
     "execution_count": 2,
     "metadata": {},
     "output_type": "execute_result"
    }
   ],
   "source": [
    "typicalText=\"In what ways does Amazon Simple Storage Service (Amazon S3) object storage differ from block and file storage? (Choose 2 answers) A. Amazon S3 stores data in fixed size blocks. B. Objects are identified by a numbered address. C. Objects can be any size. D. Objects contain both data and metadata. E. Objects are stored in buckets.\"\n",
    "len(shingleSet(typicalText))//10  # hint for numHashes, make a judgement here"
   ]
  },
  {
   "cell_type": "code",
   "execution_count": 3,
   "metadata": {},
   "outputs": [
    {
     "name": "stdout",
     "output_type": "stream",
     "text": [
      "[1202734663, 414728903, 343432971, 1207976881, 3977998366]\n",
      "[596918184, 3429734128, 369248822, 4289068188, 819598175]\n"
     ]
    }
   ],
   "source": [
    "def coeffs(numHashes=5):  # Create 'numHashes'random values between 0 and maxShingleID\n",
    "    maxShingleID = 2**32-1\n",
    "    import random\n",
    "    coeffs = set()\n",
    "    while len(coeffs)<numHashes:\n",
    "        coeffs.add(random.randint(0, maxShingleID))\n",
    "    return list(coeffs)\n",
    "\n",
    "print(coeffs())\n",
    "print(coeffs())"
   ]
  },
  {
   "cell_type": "markdown",
   "metadata": {},
   "source": [
    "numHashes, coeffA, coeffB\n",
    "have to remain the same across documents"
   ]
  },
  {
   "cell_type": "code",
   "execution_count": 20,
   "metadata": {},
   "outputs": [],
   "source": [
    "\n",
    "# Generating MinHash signature for text\n",
    "def signature(text):\n",
    "    numHashes = 5\n",
    "    coeffA = [637991790, 2183903381, 4160526327, 1561289052, 2253366173]\n",
    "    coeffB = [1603279463, 1892597895, 2920260016, 4231771987, 3149290334]\n",
    "    nextPrime = 4294967311 # The prime number above 'maxShingleID'\n",
    "    signature = []\n",
    "    thisShingleSet=shingleSet(text)\n",
    "    \n",
    "    for i in range(0, numHashes): #creating each elemment of a signature\n",
    "        minHashCode = nextPrime + 1\n",
    "        for shingle in thisShingleSet:\n",
    "            hashCode = (coeffA[i] * shingle + coeffB[i]) % nextPrime \n",
    "            if hashCode < minHashCode:# Track the lowest hash code seen\n",
    "                minHashCode = hashCode\n",
    "        signature.append(minHashCode)\n",
    "    return signature"
   ]
  },
  {
   "cell_type": "code",
   "execution_count": 34,
   "metadata": {},
   "outputs": [
    {
     "data": {
      "text/plain": [
       "[155619684, 8971033, 43107738, 62520148, 4404129]"
      ]
     },
     "execution_count": 34,
     "metadata": {},
     "output_type": "execute_result"
    }
   ],
   "source": [
    "signature('What are some of the key characteristics of Amazon Simple  Service (Amazon S3)? (Choose 3 answers) A. All objects have a URL. B. Amazon S3 can store unlimited amounts of data. C. Objects are world-readable by default. D. Amazon S3 uses a REST (Representational State Transfer) Application Program Interface (API). E. You must pre-allocate the storage in a bucket.')"
   ]
  },
  {
   "cell_type": "code",
   "execution_count": 33,
   "metadata": {},
   "outputs": [
    {
     "data": {
      "text/plain": [
       "[155619684, 8971033, 43107738, 62520148, 13871980]"
      ]
     },
     "execution_count": 33,
     "metadata": {},
     "output_type": "execute_result"
    }
   ],
   "source": [
    "signature(' are some of the key  of Amazon Simple Storage Service (Amazon S3)? (Choose 3 answers) A. All objects have a URL. B. Amazon S3 can store unlimited amounts of data. C. Objects are world-readable by default. D. Amazon S3 uses a REST (Representational State Transfer) Application Program Interface (API). E. You must pre-allocate the storage in a bucket.')"
   ]
  },
  {
   "cell_type": "code",
   "execution_count": 35,
   "metadata": {},
   "outputs": [
    {
     "data": {
      "text/plain": [
       "'155619684897103343107738625201484404129'"
      ]
     },
     "execution_count": 35,
     "metadata": {},
     "output_type": "execute_result"
    }
   ],
   "source": [
    "ID=[155619684, 8971033, 43107738, 62520148, 4404129]\n",
    "''.join(str(item) for item in a)"
   ]
  },
  {
   "cell_type": "code",
   "execution_count": 3,
   "metadata": {},
   "outputs": [],
   "source": [
    "def shar256(text):\n",
    "    from hashlib import sha256\n",
    "    h = sha256()\n",
    "    h.update(b'text')\n",
    "    return h.hexdigest()"
   ]
  },
  {
   "cell_type": "code",
   "execution_count": 4,
   "metadata": {},
   "outputs": [
    {
     "data": {
      "text/plain": [
       "'982d9e3eb996f559e633f4d194def3761d909f5a3b647d1a851fead67c32c9d1'"
      ]
     },
     "execution_count": 4,
     "metadata": {},
     "output_type": "execute_result"
    }
   ],
   "source": [
    "shar256('111111')"
   ]
  },
  {
   "cell_type": "code",
   "execution_count": null,
   "metadata": {},
   "outputs": [],
   "source": []
  }
 ],
 "metadata": {
  "interpreter": {
   "hash": "398dc28c06ad810e77de546bbdfa897a6ee0b83e59a5207339dda01a7843e01d"
  },
  "kernelspec": {
   "display_name": "Python 3.7.0 64-bit ('base': conda)",
   "language": "python",
   "name": "python3"
  },
  "language_info": {
   "codemirror_mode": {
    "name": "ipython",
    "version": 3
   },
   "file_extension": ".py",
   "mimetype": "text/x-python",
   "name": "python",
   "nbconvert_exporter": "python",
   "pygments_lexer": "ipython3",
   "version": "3.7.0"
  },
  "toc": {
   "base_numbering": 1,
   "nav_menu": {},
   "number_sections": true,
   "sideBar": true,
   "skip_h1_title": false,
   "title_cell": "Table of Contents",
   "title_sidebar": "Contents",
   "toc_cell": false,
   "toc_position": {},
   "toc_section_display": true,
   "toc_window_display": false
  }
 },
 "nbformat": 4,
 "nbformat_minor": 2
}
